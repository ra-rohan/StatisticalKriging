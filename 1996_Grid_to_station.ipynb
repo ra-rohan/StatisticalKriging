{
  "cells": [
    {
      "cell_type": "markdown",
      "metadata": {
        "id": "sII0_pfGCh3q"
      },
      "source": [
        "# Grid to Station\n"
      ]
    },
    {
      "cell_type": "code",
      "execution_count": 1,
      "metadata": {
        "colab": {
          "base_uri": "https://localhost:8080/"
        },
        "id": "UdPIwyhqdm-O",
        "outputId": "b13230ac-6a76-4e5b-a999-a26fc6285841"
      },
      "outputs": [
        {
          "output_type": "stream",
          "name": "stdout",
          "text": [
            "Mounted at /content/drive\n"
          ]
        }
      ],
      "source": [
        "from google.colab import drive\n",
        "drive.mount('/content/drive')"
      ]
    },
    {
      "cell_type": "code",
      "execution_count": 2,
      "metadata": {
        "colab": {
          "base_uri": "https://localhost:8080/"
        },
        "id": "dgOWRKdAU2kj",
        "outputId": "a252698b-781e-4b15-9642-f8780a7fddc6"
      },
      "outputs": [
        {
          "output_type": "stream",
          "name": "stdout",
          "text": [
            "Looking in indexes: https://pypi.org/simple, https://us-python.pkg.dev/colab-wheels/public/simple/\n",
            "Collecting scikit-gstat\n",
            "  Downloading scikit-gstat-1.0.9.tar.gz (688 kB)\n",
            "\u001b[2K     \u001b[90m━━━━━━━━━━━━━━━━━━━━━━━━━━━━━━━━━━━━━━\u001b[0m \u001b[32m688.0/688.0 KB\u001b[0m \u001b[31m10.9 MB/s\u001b[0m eta \u001b[36m0:00:00\u001b[0m\n",
            "\u001b[?25h  Preparing metadata (setup.py) ... \u001b[?25l\u001b[?25hdone\n",
            "Requirement already satisfied: scipy in /usr/local/lib/python3.9/dist-packages (from scikit-gstat) (1.10.1)\n",
            "Requirement already satisfied: numpy in /usr/local/lib/python3.9/dist-packages (from scikit-gstat) (1.22.4)\n",
            "Requirement already satisfied: pandas in /usr/local/lib/python3.9/dist-packages (from scikit-gstat) (1.3.5)\n",
            "Requirement already satisfied: matplotlib in /usr/local/lib/python3.9/dist-packages (from scikit-gstat) (3.5.3)\n",
            "Requirement already satisfied: numba in /usr/local/lib/python3.9/dist-packages (from scikit-gstat) (0.56.4)\n",
            "Requirement already satisfied: scikit-learn in /usr/local/lib/python3.9/dist-packages (from scikit-gstat) (1.2.1)\n",
            "Requirement already satisfied: imageio in /usr/local/lib/python3.9/dist-packages (from scikit-gstat) (2.9.0)\n",
            "Requirement already satisfied: tqdm in /usr/local/lib/python3.9/dist-packages (from scikit-gstat) (4.65.0)\n",
            "Requirement already satisfied: pillow in /usr/local/lib/python3.9/dist-packages (from imageio->scikit-gstat) (8.4.0)\n",
            "Requirement already satisfied: cycler>=0.10 in /usr/local/lib/python3.9/dist-packages (from matplotlib->scikit-gstat) (0.11.0)\n",
            "Requirement already satisfied: fonttools>=4.22.0 in /usr/local/lib/python3.9/dist-packages (from matplotlib->scikit-gstat) (4.39.0)\n",
            "Requirement already satisfied: kiwisolver>=1.0.1 in /usr/local/lib/python3.9/dist-packages (from matplotlib->scikit-gstat) (1.4.4)\n",
            "Requirement already satisfied: python-dateutil>=2.7 in /usr/local/lib/python3.9/dist-packages (from matplotlib->scikit-gstat) (2.8.2)\n",
            "Requirement already satisfied: pyparsing>=2.2.1 in /usr/local/lib/python3.9/dist-packages (from matplotlib->scikit-gstat) (3.0.9)\n",
            "Requirement already satisfied: packaging>=20.0 in /usr/local/lib/python3.9/dist-packages (from matplotlib->scikit-gstat) (23.0)\n",
            "Requirement already satisfied: llvmlite<0.40,>=0.39.0dev0 in /usr/local/lib/python3.9/dist-packages (from numba->scikit-gstat) (0.39.1)\n",
            "Requirement already satisfied: setuptools in /usr/local/lib/python3.9/dist-packages (from numba->scikit-gstat) (57.4.0)\n",
            "Requirement already satisfied: pytz>=2017.3 in /usr/local/lib/python3.9/dist-packages (from pandas->scikit-gstat) (2022.7.1)\n",
            "Requirement already satisfied: threadpoolctl>=2.0.0 in /usr/local/lib/python3.9/dist-packages (from scikit-learn->scikit-gstat) (3.1.0)\n",
            "Requirement already satisfied: joblib>=1.1.1 in /usr/local/lib/python3.9/dist-packages (from scikit-learn->scikit-gstat) (1.2.0)\n",
            "Requirement already satisfied: six>=1.5 in /usr/local/lib/python3.9/dist-packages (from python-dateutil>=2.7->matplotlib->scikit-gstat) (1.15.0)\n",
            "Building wheels for collected packages: scikit-gstat\n",
            "  Building wheel for scikit-gstat (setup.py) ... \u001b[?25l\u001b[?25hdone\n",
            "  Created wheel for scikit-gstat: filename=scikit_gstat-1.0.9-py3-none-any.whl size=702914 sha256=e3e9bd39c3325449be50e573a38aa3fb2f3db0604ca72c6397cb727b96e2f46d\n",
            "  Stored in directory: /root/.cache/pip/wheels/16/b2/bd/9bfa24f6e4859128d54ad8fbb1ed3dcb66264c91750ae92f0f\n",
            "Successfully built scikit-gstat\n",
            "Installing collected packages: scikit-gstat\n",
            "Successfully installed scikit-gstat-1.0.9\n"
          ]
        }
      ],
      "source": [
        "pip install scikit-gstat"
      ]
    },
    {
      "cell_type": "markdown",
      "metadata": {
        "id": "J28obmVhLO_P"
      },
      "source": [
        "# Final\n"
      ]
    },
    {
      "cell_type": "code",
      "source": [
        "import numpy as np\n",
        "import matplotlib.pyplot as plt\n",
        "import pandas as pd\n",
        "import skgstat as skg"
      ],
      "metadata": {
        "id": "ad21y5mH6iSg"
      },
      "execution_count": null,
      "outputs": []
    },
    {
      "cell_type": "code",
      "execution_count": null,
      "metadata": {
        "colab": {
          "base_uri": "https://localhost:8080/"
        },
        "id": "yF0eB_qXLNnF",
        "outputId": "606b3c7b-0d07-42cb-ea22-6959c1661852"
      },
      "outputs": [
        {
          "output_type": "stream",
          "name": "stdout",
          "text": [
            "exception year:  96 month:  1 ,day:  1 :  4930\n",
            "exception year:  96 month:  1 ,day:  2 :  4930\n",
            "exception year:  96 month:  1 ,day:  3 :  4930\n",
            "exception year:  96 month:  1 ,day:  4 :  4930\n",
            "exception year:  96 month:  1 ,day:  5 :  4930\n",
            "exception year:  96 month:  1 ,day:  6 :  4930\n",
            "year:  96 month:  1 ,day:  7 :  [0. 0. 0. ... 0. 0. 0.] 4930\n"
          ]
        }
      ],
      "source": [
        "# Importing the csv data\n",
        "df = pd.read_csv(\"/content/drive/MyDrive/Krig values/1996_rainfall_kriging.csv\")                                              \n",
        "\n",
        "# Importing the Station data\n",
        "station = pd.read_csv(\"/content/drive/MyDrive/Krig values/rf40_station.csv\")\n",
        "\n",
        "\n",
        "gcoords = []                # Grid coordinates\n",
        "mdatabase = pd.DataFrame()  # Final database to contain the values  \n",
        "\n",
        "# Loop used in case of multiple years \n",
        "for y in {96}:                                                                                                                        \n",
        "\n",
        "  # 31 days months \n",
        "  for month in {1,3,5,7,8,10,12}:      \n",
        "          \n",
        "      for day in range(1,32): \n",
        "\n",
        "          dfm = df[df['Month'] == month]\n",
        "          dfm = dfm[dfm['Day'] == day]\n",
        "          value = dfm['Rainfall'].values\n",
        "\n",
        "          # Going from grid to station\n",
        "          # Defining Lat Lon of Grid points\n",
        "          \n",
        "          lat = list(dfm['Latitude']) \n",
        "          lon = list(dfm['Longitude'])\n",
        "          gcoords = [[lat[i],lon[i]] for i in range(len(dfm))]\n",
        "\n",
        "          #Station values for 1995\n",
        "          sf = station.loc[ (station['Year'] == y) & (station['Month'] == month)]\n",
        "\n",
        "          #Defining Lat Lon of stations\n",
        "          ulat = (sf['Latitude'].values)\n",
        "          ulon = (sf['Longitude'].values)\n",
        "          coords = [[ulat[i],ulon[i]] for i in range(len(ulat))]\n",
        "\n",
        "\n",
        "          X = [i[0] for i in coords]\n",
        "          Y = [j[1] for j in coords] \n",
        "          \n",
        "          \n",
        "          #Actual Rainfall\n",
        "          arain = list(station[str(day)].loc[ (station['Year'] == y) & (station['Month'] == month)])\n",
        "\n",
        "          try :\n",
        "            if np.all(value == 0):\n",
        "              newdata = pd.DataFrame({'Latitude':X,'Longitude': Y, 'Year': [dfm['Year'].values[0]]*len(X), 'Month' : month , 'Day' : day, 'Predicted Rainfall' : [0]*len(X), 'Actual Rainfall': arain})  # No district or station because these are the grid values. \n",
        "              mdatabase = pd.concat([mdatabase,newdata])\n",
        "              print(\"year: \",y,\"month: \",month,\",day: \",day,\": \", Surf,len(Surf))\n",
        "              continue\n",
        "            V = skg.Variogram(gcoords,value) \n",
        "\n",
        "\n",
        "          except:\n",
        "            Surf = [0]*len(X)\n",
        "            newdata = pd.DataFrame({'Latitude':X,'Longitude': Y, 'Year': [dfm['Year'].values[0]]*len(X), 'Month' : month , 'Day' : day, 'Predicted Rainfall' : [0]*len(X), 'Actual Rainfall': arain})  # No district or station because these are the grid values. \n",
        "            mdatabase = pd.concat([mdatabase,newdata])\n",
        "            print(\"exception\",\"year: \",y,\"month: \",month,\",day: \",day,\": \", len(Surf))\n",
        "            continue\n",
        "\n",
        "          ok = skg.OrdinaryKriging(V , min_points = 1, max_points = 5, mode = 'exact')\n",
        "    \n",
        "          Surf = ok.transform(X,Y)\n",
        "\n",
        "\n",
        "          # Removing the negative values attained in Kriging\n",
        "          for i in range(len(Surf)):\n",
        "            if Surf[i] < 0.0:\n",
        "              Surf[i] = 0\n",
        "\n",
        "\n",
        "          newdata = pd.DataFrame({'Latitude':X,'Longitude': Y, 'Year': [dfm['Year'].values[0]]*len(X), 'Month' : month , 'Day' : day, 'Predicted Rainfall' : Surf, 'Actual Rainfall' : arain})  # No district or station because these are the grid values. \n",
        "          mdatabase = pd.concat([mdatabase,newdata])\n",
        "          temp = pd.DataFrame({'Latitude':X,'Longitude': Y, 'Year': [dfm['Year'].values[0]]*len(X), 'Month' : month , 'Day' : day, 'Predicted Rainfall' : Surf, 'Actual Rainfall' : arain})\n",
        "          print(\"year: \",y,\"month: \",month,\",day: \",day,\": \", Surf,len(Surf))\n",
        "\n",
        "  # 30 days month\n",
        "  for month in {4,6,9,11}:      \n",
        "          \n",
        "      for day in range(1,31): \n",
        "\n",
        "          dfm = df[df['Month'] == month]\n",
        "          dfm = dfm[dfm['Day'] == day]\n",
        "          value = dfm['Rainfall'].values\n",
        "\n",
        "          # Going from grid to station\n",
        "          # Defining Lat Lon of Grid points\n",
        "          \n",
        "          lat = list(dfm['Latitude']) \n",
        "          lon = list(dfm['Longitude'])\n",
        "          gcoords = [[lat[i],lon[i]] for i in range(len(dfm))]\n",
        "\n",
        "          #Station values for 1995\n",
        "          sf = station.loc[(station['Year'] == y) & (station['Month'] == month)]\n",
        "\n",
        "          #Defining Lat Lon of stations\n",
        "          ulat = (sf['Latitude'].values)\n",
        "          ulon = (sf['Longitude'].values)\n",
        "          coords = [[ulat[i],ulon[i]] for i in range(len(ulat))]\n",
        "\n",
        "          X = [i[0] for i in coords]\n",
        "          Y = [j[1] for j in coords] \n",
        "          \n",
        "          #Actual Rainfall\n",
        "          arain = list(station[str(day)].loc[ (station['Year'] == y) & (station['Month'] == month)])\n",
        "\n",
        "          try :\n",
        "            if np.all(value == 0):\n",
        "              newdata = pd.DataFrame({'Latitude':X,'Longitude': Y, 'Year': [dfm['Year'].values[0]]*len(X), 'Month' : month , 'Day' : day, 'Predicted Rainfall' : [0]*len(X), 'Actual Rainfall': arain})  # No district or station because these are the grid values. \n",
        "              mdatabase = pd.concat([mdatabase,newdata])\n",
        "              print(\"year: \",y,\"month: \",month,\",day: \",day,\": \", Surf,len(Surf))\n",
        "              continue\n",
        "            V = skg.Variogram(gcoords,value) \n",
        "            #V = skg.Variogram(gcoords,value, fit_method = 'lm')\n",
        "\n",
        "\n",
        "          except:\n",
        "            #if np.all(value == 0):\n",
        "            Surf = [0]*len(X)\n",
        "            newdata = pd.DataFrame({'Latitude':X,'Longitude': Y, 'Year': [dfm['Year'].values[0]]*len(X), 'Month' : month , 'Day' : day, 'Predicted Rainfall' : [0]*len(X), 'Actual Rainfall': arain})  # No district or station because these are the grid values. \n",
        "            mdatabase = pd.concat([mdatabase,newdata])\n",
        "            print(\"exception\",\"year: \",y,\"month: \",month,\",day: \",day,\": \", len(Surf))\n",
        "            continue\n",
        "            #V = skg.Variogram(gcoords,value, fit_method = 'lm')\n",
        "\n",
        "          ok = skg.OrdinaryKriging(V , min_points = 1, max_points = 5, mode = 'exact')\n",
        "    \n",
        "          Surf = ok.transform(X,Y)\n",
        "          \n",
        "          # Removing the negative values attained in Kriging\n",
        "          for i in range(len(Surf)):\n",
        "            if Surf[i] < 0.0:\n",
        "              Surf[i] = 0\n",
        "\n",
        "          newdata = pd.DataFrame({'Latitude':X,'Longitude': Y, 'Year': [dfm['Year'].values[0]]*len(X), 'Month' : month , 'Day' : day, 'Predicted Rainfall' : Surf, 'Actual Rainfall' : arain})  # No district or station because these are the grid values. \n",
        "          mdatabase = pd.concat([mdatabase,newdata])\n",
        "          temp = pd.DataFrame({'Latitude':X,'Longitude': Y, 'Year': [dfm['Year'].values[0]]*len(X), 'Month' : month , 'Day' : day, 'Predicted Rainfall' : Surf, 'Actual Rainfall' : arain})\n",
        "          print(\"year: \",y,\"month: \",month,\",day: \",day,\": \", Surf,len(Surf))\n",
        "\n",
        "  # 27 days month\n",
        "  for month in {2}:       \n",
        "          \n",
        "      for day in range(1,30):                                                                                       #Change Day here\n",
        "\n",
        "          dfm = df[df['Month'] == month]\n",
        "          dfm = dfm[dfm['Day'] == day]\n",
        "          value = dfm['Rainfall'].values\n",
        "\n",
        "          # Going from grid to station\n",
        "          # Defining Lat Lon of Grid points\n",
        "          \n",
        "          lat = list(dfm['Latitude']) \n",
        "          lon = list(dfm['Longitude'])\n",
        "          gcoords = [[lat[i],lon[i]] for i in range(len(dfm))]\n",
        "\n",
        "          #Station values for 1995\n",
        "          sf = station.loc[ (station['Year'] == y) & (station['Month'] == month)]\n",
        "\n",
        "          #Defining Lat Lon of stations\n",
        "          ulat = (sf['Latitude'].values)\n",
        "          ulon = (sf['Longitude'].values)\n",
        "          coords = [[ulat[i],ulon[i]] for i in range(len(ulat))]\n",
        "\n",
        "\n",
        "          X = [i[0] for i in coords]\n",
        "          Y = [j[1] for j in coords] \n",
        "          #Surf = ok.transform(X,Y)\n",
        "          \n",
        "          \n",
        "          #Actual Rainfall\n",
        "          arain = list(station[str(day)].loc[ (station['Year'] == y) & (station['Month'] == month)])\n",
        "\n",
        "          try :\n",
        "            if np.all(value == 0):\n",
        "              newdata = pd.DataFrame({'Latitude':X,'Longitude': Y, 'Year': [dfm['Year'].values[0]]*len(X), 'Month' : month , 'Day' : day, 'Predicted Rainfall' : [0]*len(X), 'Actual Rainfall': arain})  # No district or station because these are the grid values. \n",
        "              mdatabase = pd.concat([mdatabase,newdata])\n",
        "              print(\"year: \",y,\"month: \",month,\",day: \",day,\": \", Surf,len(Surf))\n",
        "              continue\n",
        "            V = skg.Variogram(gcoords,value) \n",
        "\n",
        "\n",
        "          except:\n",
        "            Surf = [0]*len(X)\n",
        "            newdata = pd.DataFrame({'Latitude':X,'Longitude': Y, 'Year': [dfm['Year'].values[0]]*len(X), 'Month' : month , 'Day' : day, 'Predicted Rainfall' : [0]*len(X), 'Actual Rainfall': arain})  # No district or station because these are the grid values. \n",
        "            mdatabase = pd.concat([mdatabase,newdata])\n",
        "            print(\"exception\",\"year: \",y,\"month: \",month,\",day: \",day,\": \", len(Surf))\n",
        "            continue\n",
        "\n",
        "          ok = skg.OrdinaryKriging(V , min_points = 1, max_points = 5, mode = 'exact')\n",
        "    \n",
        "          Surf = ok.transform(X,Y)\n",
        "          \n",
        "          # Removing the negative values attained in Kriging\n",
        "          for i in range(len(Surf)):\n",
        "            if Surf[i] < 0.0:\n",
        "              Surf[i] = 0\n",
        "\n",
        "          newdata = pd.DataFrame({'Latitude':X,'Longitude': Y, 'Year': [dfm['Year'].values[0]]*len(X), 'Month' : month , 'Day' : day, 'Predicted Rainfall' : Surf, 'Actual Rainfall' : arain})  # No district or station because these are the grid values. \n",
        "          mdatabase = pd.concat([mdatabase,newdata])\n",
        "          temp = pd.DataFrame({'Latitude':X,'Longitude': Y, 'Year': [dfm['Year'].values[0]]*len(X), 'Month' : month , 'Day' : day, 'Predicted Rainfall' : Surf, 'Actual Rainfall' : arain})\n",
        "          print(\"year: \",y,\"month: \",month,\",day: \",day,\": \", Surf,len(Surf))\n",
        "\n",
        "  mdatabase.to_csv(\"/output/1996_output.csv\")                       \n",
        "  mdatabase = mdatabase.iloc[0:0]               #making all years 0 for the next iteration of year "
      ]
    }
  ],
  "metadata": {
    "colab": {
      "provenance": []
    },
    "kernelspec": {
      "display_name": "Python 3",
      "name": "python3"
    },
    "language_info": {
      "name": "python"
    }
  },
  "nbformat": 4,
  "nbformat_minor": 0
}